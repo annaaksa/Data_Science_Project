{
  "nbformat": 4,
  "nbformat_minor": 0,
  "metadata": {
    "colab": {
      "provenance": []
    },
    "kernelspec": {
      "name": "python3",
      "display_name": "Python 3"
    },
    "language_info": {
      "name": "python"
    }
  },
  "cells": [
    {
      "cell_type": "code",
      "execution_count": 1,
      "metadata": {
        "colab": {
          "base_uri": "https://localhost:8080/"
        },
        "id": "5cGnlPO0OPzM",
        "outputId": "a27aacfa-5442-4b72-e091-a62fb236c9f9"
      },
      "outputs": [
        {
          "output_type": "stream",
          "name": "stdout",
          "text": [
            "Mounted at /content/drive\n"
          ]
        }
      ],
      "source": [
        "from google.colab import drive\n",
        "drive.mount('/content/drive')"
      ]
    },
    {
      "cell_type": "code",
      "source": [
        "import os\n",
        "import numpy as np\n",
        "import pandas as pd\n",
        "import matplotlib.pyplot as plt\n",
        "import seaborn as sns\n",
        "from tensorflow.keras.preprocessing.image import ImageDataGenerator"
      ],
      "metadata": {
        "id": "og-BunA3OiYD"
      },
      "execution_count": 2,
      "outputs": []
    },
    {
      "cell_type": "code",
      "source": [
        "train_dir = '/content/drive/MyDrive/Colab Notebooks/Training'\n",
        "n_train_glioma = len(os.listdir(f'{train_dir}/glioma'))\n",
        "n_train_mening = len(os.listdir(f'{train_dir}/meningioma'))\n",
        "n_train_pit = len(os.listdir(f'{train_dir}/pituitary'))\n",
        "n_train_non = len(os.listdir(f'{train_dir}/notumor'))\n",
        "\n",
        "\n",
        "\n",
        "total_train = n_train_glioma + n_train_mening + n_train_pit + n_train_non"
      ],
      "metadata": {
        "id": "8Pqw9NnNOvIO"
      },
      "execution_count": 3,
      "outputs": []
    },
    {
      "cell_type": "code",
      "source": [
        "count = [n_train_glioma, n_train_mening, n_train_pit, n_train_non, total_train]\n",
        "length = ['glioma', ' meningioma', 'pituitary', 'no tumor', 'total images']\n",
        "\n",
        "for i, sum in zip(length, count):\n",
        "  print(f'Total counts of {i} is {sum}')\n",
        "  print(100*'-')"
      ],
      "metadata": {
        "colab": {
          "base_uri": "https://localhost:8080/"
        },
        "id": "BVFlbKdjPBm9",
        "outputId": "cd839511-ffb0-4166-e1d4-40f9c4a37832"
      },
      "execution_count": 4,
      "outputs": [
        {
          "output_type": "stream",
          "name": "stdout",
          "text": [
            "Total counts of glioma is 1321\n",
            "----------------------------------------------------------------------------------------------------\n",
            "Total counts of  meningioma is 1339\n",
            "----------------------------------------------------------------------------------------------------\n",
            "Total counts of pituitary is 1457\n",
            "----------------------------------------------------------------------------------------------------\n",
            "Total counts of no tumor is 1595\n",
            "----------------------------------------------------------------------------------------------------\n",
            "Total counts of total images is 5712\n",
            "----------------------------------------------------------------------------------------------------\n"
          ]
        }
      ]
    },
    {
      "cell_type": "code",
      "source": [
        "class_labels = ['Glioma', 'Meningioma', 'Pituitary', 'No Tumor']\n",
        "class_counts = [n_train_glioma, n_train_mening, n_train_pit, n_train_non]"
      ],
      "metadata": {
        "id": "o4GI4Z5sPEBr"
      },
      "execution_count": 5,
      "outputs": []
    },
    {
      "cell_type": "code",
      "source": [
        "sns.set(style=\"whitegrid\")\n",
        "plt.figure(figsize=(8, 6))\n",
        "ax = sns.barplot(x=class_labels, y=class_counts, palette=\"viridis\")\n",
        "\n",
        "\n",
        "for i, count in enumerate(class_counts):\n",
        "    ax.text(i, count + 2, str(count), ha='center', va='bottom', fontsize=12)\n",
        "\n",
        "plt.title(\"Distribution of Classes in Training Data\")\n",
        "plt.xlabel(\"Class Label\")\n",
        "plt.ylabel(\"Count\")\n",
        "plt.show()"
      ],
      "metadata": {
        "colab": {
          "base_uri": "https://localhost:8080/",
          "height": 680
        },
        "id": "l-Mgwn6ePK2W",
        "outputId": "abcb779d-cfb4-42ca-8af1-1b4f3c85f100"
      },
      "execution_count": 6,
      "outputs": [
        {
          "output_type": "stream",
          "name": "stderr",
          "text": [
            "<ipython-input-6-8eae65173505>:3: FutureWarning: \n",
            "\n",
            "Passing `palette` without assigning `hue` is deprecated and will be removed in v0.14.0. Assign the `x` variable to `hue` and set `legend=False` for the same effect.\n",
            "\n",
            "  ax = sns.barplot(x=class_labels, y=class_counts, palette=\"viridis\")\n"
          ]
        },
        {
          "output_type": "display_data",
          "data": {
            "text/plain": [
              "<Figure size 800x600 with 1 Axes>"
            ],
            "image/png": "[encoded data removed]"
          },
          "metadata": {}
        }
      ]
    },
    {
      "cell_type": "code",
      "source": [
        "test_dir=\"/content/drive/MyDrive/Colab Notebooks/Testing\"\n",
        "\n",
        "n_test_glioma = len(os.listdir(f'{test_dir}/glioma'))\n",
        "n_test_mening = len(os.listdir(f'{test_dir}/meningioma'))\n",
        "n_test_pit = len(os.listdir(f'{test_dir}/pituitary'))\n",
        "n_test_non = len(os.listdir(f'{test_dir}/notumor'))\n",
        "\n",
        "\n",
        "\n",
        "total_test = n_test_glioma + n_test_mening + n_test_pit + n_test_non"
      ],
      "metadata": {
        "id": "C_cY9ctjPQgr"
      },
      "execution_count": 7,
      "outputs": []
    },
    {
      "cell_type": "code",
      "source": [
        "count = [n_test_glioma, n_test_mening, n_test_pit, n_test_non, total_test]\n",
        "length = ['glioma', ' meningioma', 'pituitary', 'no tumor', 'total images']\n",
        "\n",
        "for i, sum in zip(length, count):\n",
        "  print(f'Total counts of {i} is {sum}')\n",
        "  print(100*'-')"
      ],
      "metadata": {
        "colab": {
          "base_uri": "https://localhost:8080/"
        },
        "id": "QlNTDamWPb0W",
        "outputId": "ec6899c3-2c17-4c54-a20e-adca2ff891ef"
      },
      "execution_count": 8,
      "outputs": [
        {
          "output_type": "stream",
          "name": "stdout",
          "text": [
            "Total counts of glioma is 300\n",
            "----------------------------------------------------------------------------------------------------\n",
            "Total counts of  meningioma is 306\n",
            "----------------------------------------------------------------------------------------------------\n",
            "Total counts of pituitary is 300\n",
            "----------------------------------------------------------------------------------------------------\n",
            "Total counts of no tumor is 405\n",
            "----------------------------------------------------------------------------------------------------\n",
            "Total counts of total images is 1311\n",
            "----------------------------------------------------------------------------------------------------\n"
          ]
        }
      ]
    },
    {
      "cell_type": "code",
      "source": [
        "class_labels = ['Glioma', 'Meningioma', 'Pituitary', 'No Tumow']\n",
        "class_counts = [n_test_glioma, n_test_mening, n_test_pit, n_test_non]"
      ],
      "metadata": {
        "id": "XFQLnXYbPgVN"
      },
      "execution_count": 9,
      "outputs": []
    },
    {
      "cell_type": "code",
      "source": [
        "sns.set(style=\"whitegrid\")\n",
        "plt.figure(figsize=(8, 6))\n",
        "ax = sns.barplot(x=class_labels, y=class_counts, palette=\"viridis\")\n",
        "\n",
        "\n",
        "for i, count in enumerate(class_counts):\n",
        "    ax.text(i, count + 2, str(count), ha='center', va='bottom', fontsize=12)\n",
        "\n",
        "plt.title(\"Distribution of Classes in Testing Data\")\n",
        "plt.xlabel(\"Class Label\")\n",
        "plt.ylabel(\"Count\")\n",
        "plt.show()"
      ],
      "metadata": {
        "colab": {
          "base_uri": "https://localhost:8080/",
          "height": 680
        },
        "id": "y5VhfDUwPlOE",
        "outputId": "8bfa506d-44d5-4013-9127-a98379b5fffb"
      },
      "execution_count": 10,
      "outputs": [
        {
          "output_type": "stream",
          "name": "stderr",
          "text": [
            "<ipython-input-10-584863791459>:3: FutureWarning: \n",
            "\n",
            "Passing `palette` without assigning `hue` is deprecated and will be removed in v0.14.0. Assign the `x` variable to `hue` and set `legend=False` for the same effect.\n",
            "\n",
            "  ax = sns.barplot(x=class_labels, y=class_counts, palette=\"viridis\")\n"
          ]
        },
        {
          "output_type": "display_data",
          "data": {
            "text/plain": [
              "<Figure size 800x600 with 1 Axes>"
            ],
            "image/png": "[encoded data removed]"
          },
          "metadata": {}
        }
      ]
    },
    {
      "cell_type": "code",
      "source": [
        " train_datagen=ImageDataGenerator(rescale=1./255,\n",
        "                                 rotation_range=40,\n",
        "                                 width_shift_range=0.05,\n",
        "                                 height_shift_range=0.05,\n",
        "                                 zoom_range=0.1,\n",
        "                                 shear_range=0.1,\n",
        "                                 horizontal_flip=True,\n",
        "                                 vertical_flip=False,\n",
        "                                 fill_mode='nearest')\n",
        "\n",
        "test_datagen=ImageDataGenerator(rescale=1./255)"
      ],
      "metadata": {
        "id": "qjKJV1BePwLW"
      },
      "execution_count": 11,
      "outputs": []
    },
    {
      "cell_type": "code",
      "source": [
        "training_set=train_datagen.flow_from_directory(train_dir,\n",
        "                                               target_size=(224,224),\n",
        "                                               batch_size=16,\n",
        "                                               class_mode='categorical')\n",
        "\n",
        "test_set=test_datagen.flow_from_directory(test_dir,\n",
        "                                          target_size=(224,224),\n",
        "                                          batch_size=16,\n",
        "                                          class_mode=\"categorical\")"
      ],
      "metadata": {
        "colab": {
          "base_uri": "https://localhost:8080/"
        },
        "id": "MfZEwlS7P6L2",
        "outputId": "ad2553bd-1b91-42a5-f1b1-8bb14d915e4e"
      },
      "execution_count": 12,
      "outputs": [
        {
          "output_type": "stream",
          "name": "stdout",
          "text": [
            "Found 5712 images belonging to 4 classes.\n",
            "Found 1311 images belonging to 4 classes.\n"
          ]
        }
      ]
    },
    {
      "cell_type": "code",
      "source": [],
      "metadata": {
        "id": "oSwbNO2is-g9"
      },
      "execution_count": null,
      "outputs": []
    },
    {
      "cell_type": "code",
      "source": [
        "import tensorflow as tf\n",
        "from tensorflow.keras.models import Sequential\n",
        "from tensorflow.keras.layers import Conv2D, MaxPooling2D, Flatten, Dense, Dropout\n",
        "from tensorflow.keras.optimizers import Adam\n",
        "\n",
        "def build_vgg16_model(input_shape):\n",
        "    model = Sequential()\n",
        "\n",
        "    # Block 1\n",
        "    model.add(Conv2D(64, (3, 3), activation='relu', padding='same', input_shape=input_shape))\n",
        "    model.add(Conv2D(64, (3, 3), activation='relu', padding='same'))\n",
        "    model.add(MaxPooling2D((2, 2), strides=(2, 2)))\n",
        "\n",
        "    # Block 2\n",
        "    model.add(Conv2D(128, (3, 3), activation='relu', padding='same'))\n",
        "    model.add(Conv2D(128, (3, 3), activation='relu', padding='same'))\n",
        "    model.add(MaxPooling2D((2, 2), strides=(2, 2)))\n",
        "\n",
        "    # Block 3\n",
        "    model.add(Conv2D(256, (3, 3), activation='relu', padding='same'))\n",
        "    model.add(Conv2D(256, (3, 3), activation='relu', padding='same'))\n",
        "    model.add(Conv2D(256, (3, 3), activation='relu', padding='same'))\n",
        "    model.add(MaxPooling2D((2, 2), strides=(2, 2)))\n",
        "\n",
        "    # Block 4\n",
        "    model.add(Conv2D(512, (3, 3), activation='relu', padding='same'))\n",
        "    model.add(Conv2D(512, (3, 3), activation='relu', padding='same'))\n",
        "    model.add(Conv2D(512, (3, 3), activation='relu', padding='same'))\n",
        "    model.add(MaxPooling2D((2, 2), strides=(2, 2)))\n",
        "\n",
        "    # Block 5\n",
        "    model.add(Conv2D(512, (3, 3), activation='relu', padding='same'))\n",
        "    model.add(Conv2D(512, (3, 3), activation='relu', padding='same'))\n",
        "    model.add(Conv2D(512, (3, 3), activation='relu', padding='same'))\n",
        "    model.add(MaxPooling2D((2, 2), strides=(2, 2)))\n",
        "\n",
        "    # Fully Connected Layers\n",
        "    model.add(Flatten())\n",
        "    model.add(Dense(4096, activation='relu'))\n",
        "    model.add(Dropout(0.5))\n",
        "    model.add(Dense(4096, activation='relu'))\n",
        "    model.add(Dropout(0.5))\n",
        "    model.add(Dense(4, activation='softmax'))  # 4 classes for glioma, meningioma, pituitary, and no tumor\n",
        "\n",
        "    return model\n",
        "\n",
        "vgg16_model = build_vgg16_model((224, 224, 3))\n",
        "vgg16_model.compile(optimizer=Adam(learning_rate=0.0001), loss='categorical_crossentropy', metrics=['accuracy'])\n",
        "vgg16_model.summary()\n"
      ],
      "metadata": {
        "colab": {
          "base_uri": "https://localhost:8080/"
        },
        "id": "rLGWB5nPs-2Q",
        "outputId": "12c66a5b-b6f2-44ae-be51-044d03c57b82"
      },
      "execution_count": 1,
      "outputs": [
        {
          "output_type": "stream",
          "name": "stdout",
          "text": [
            "Model: \"sequential\"\n",
            "_________________________________________________________________\n",
            " Layer (type)                Output Shape              Param #   \n",
            "=================================================================\n",
            " conv2d (Conv2D)             (None, 224, 224, 64)      1792      \n",
            "                                                                 \n",
            " conv2d_1 (Conv2D)           (None, 224, 224, 64)      36928     \n",
            "                                                                 \n",
            " max_pooling2d (MaxPooling2  (None, 112, 112, 64)      0         \n",
            " D)                                                              \n",
            "                                                                 \n",
            " conv2d_2 (Conv2D)           (None, 112, 112, 128)     73856     \n",
            "                                                                 \n",
            " conv2d_3 (Conv2D)           (None, 112, 112, 128)     147584    \n",
            "                                                                 \n",
            " max_pooling2d_1 (MaxPoolin  (None, 56, 56, 128)       0         \n",
            " g2D)                                                            \n",
            "                                                                 \n",
            " conv2d_4 (Conv2D)           (None, 56, 56, 256)       295168    \n",
            "                                                                 \n",
            " conv2d_5 (Conv2D)           (None, 56, 56, 256)       590080    \n",
            "                                                                 \n",
            " conv2d_6 (Conv2D)           (None, 56, 56, 256)       590080    \n",
            "                                                                 \n",
            " max_pooling2d_2 (MaxPoolin  (None, 28, 28, 256)       0         \n",
            " g2D)                                                            \n",
            "                                                                 \n",
            " conv2d_7 (Conv2D)           (None, 28, 28, 512)       1180160   \n",
            "                                                                 \n",
            " conv2d_8 (Conv2D)           (None, 28, 28, 512)       2359808   \n",
            "                                                                 \n",
            " conv2d_9 (Conv2D)           (None, 28, 28, 512)       2359808   \n",
            "                                                                 \n",
            " max_pooling2d_3 (MaxPoolin  (None, 14, 14, 512)       0         \n",
            " g2D)                                                            \n",
            "                                                                 \n",
            " conv2d_10 (Conv2D)          (None, 14, 14, 512)       2359808   \n",
            "                                                                 \n",
            " conv2d_11 (Conv2D)          (None, 14, 14, 512)       2359808   \n",
            "                                                                 \n",
            " conv2d_12 (Conv2D)          (None, 14, 14, 512)       2359808   \n",
            "                                                                 \n",
            " max_pooling2d_4 (MaxPoolin  (None, 7, 7, 512)         0         \n",
            " g2D)                                                            \n",
            "                                                                 \n",
            " flatten (Flatten)           (None, 25088)             0         \n",
            "                                                                 \n",
            " dense (Dense)               (None, 4096)              102764544 \n",
            "                                                                 \n",
            " dropout (Dropout)           (None, 4096)              0         \n",
            "                                                                 \n",
            " dense_1 (Dense)             (None, 4096)              16781312  \n",
            "                                                                 \n",
            " dropout_1 (Dropout)         (None, 4096)              0         \n",
            "                                                                 \n",
            " dense_2 (Dense)             (None, 4)                 16388     \n",
            "                                                                 \n",
            "=================================================================\n",
            "Total params: 134276932 (512.23 MB)\n",
            "Trainable params: 134276932 (512.23 MB)\n",
            "Non-trainable params: 0 (0.00 Byte)\n",
            "_________________________________________________________________\n"
          ]
        }
      ]
    }
  ]
}